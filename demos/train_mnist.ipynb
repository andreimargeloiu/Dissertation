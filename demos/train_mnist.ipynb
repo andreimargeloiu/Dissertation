{
  "nbformat": 4,
  "nbformat_minor": 0,
  "metadata": {
    "kernelspec": {
      "name": "python3",
      "display_name": "Python 3"
    },
    "language_info": {
      "codemirror_mode": {
        "name": "ipython",
        "version": 3
      },
      "file_extension": ".py",
      "mimetype": "text/x-python",
      "name": "python",
      "nbconvert_exporter": "python",
      "pygments_lexer": "ipython3",
      "version": "3.7.6"
    },
    "colab": {
      "name": "train_mnist.ipynb",
      "provenance": []
    },
    "accelerator": "GPU"
  },
  "cells": [
    {
      "cell_type": "markdown",
      "metadata": {
        "id": "hsZZOjm5vo5T",
        "colab_type": "text"
      },
      "source": [
        "## Colab"
      ]
    },
    {
      "cell_type": "code",
      "metadata": {
        "id": "wMVndtGnvo5V",
        "colab_type": "code",
        "colab": {}
      },
      "source": [
        "!nvidia-smi"
      ],
      "execution_count": 0,
      "outputs": []
    },
    {
      "cell_type": "code",
      "metadata": {
        "id": "1ubul8igvo5a",
        "colab_type": "code",
        "colab": {}
      },
      "source": [
        "# @title Install Project\n",
        "!git clone https://github.com/margiki/Dissertation.git\n",
        "%cd /content/Dissertation\n",
        "!pip install -r requirements.txt"
      ],
      "execution_count": 0,
      "outputs": []
    },
    {
      "cell_type": "code",
      "metadata": {
        "id": "VSwdv-xPzvU7",
        "colab_type": "code",
        "colab": {}
      },
      "source": [
        "#@title Git pull\n",
        "%cd /content/Dissertation\n",
        "!git pull\n",
        "%cd /content/Dissertation/code"
      ],
      "execution_count": 0,
      "outputs": []
    },
    {
      "cell_type": "markdown",
      "metadata": {
        "id": "I25JdCiFvo5e",
        "colab_type": "text"
      },
      "source": [
        "## Training"
      ]
    },
    {
      "cell_type": "code",
      "metadata": {
        "id": "32QhdcUfvo5h",
        "colab_type": "code",
        "colab": {
          "base_uri": "https://localhost:8080/",
          "height": 52
        },
        "outputId": "3672ce25-7785-4f60-9243-fe2f720b0a9d"
      },
      "source": [
        "import sys, os\n",
        "sys.path.insert(1, os.path.join(sys.path[0], '../code'))\n",
        "\n",
        "%load_ext autoreload\n",
        "%autoreload 2\n",
        "%matplotlib inline\n",
        "\n",
        "import train"
      ],
      "execution_count": 13,
      "outputs": [
        {
          "output_type": "stream",
          "text": [
            "The autoreload extension is already loaded. To reload it, use:\n",
            "  %reload_ext autoreload\n"
          ],
          "name": "stdout"
        }
      ]
    },
    {
      "cell_type": "code",
      "metadata": {
        "pycharm": {
          "name": "#%%\n"
        },
        "scrolled": true,
        "id": "w-_Wr6hPvo5l",
        "colab_type": "code",
        "colab": {}
      },
      "source": [
        "args = {\n",
        "    '--local':False,\n",
        "    '--model-to-train': 'mnist',\n",
        "    '--log-interval':200,\n",
        "    '--epochs': 5,\n",
        "    '--batch-size': 128\n",
        "}\n",
        "\n",
        "train.run(args)"
      ],
      "execution_count": 0,
      "outputs": []
    }
  ]
}